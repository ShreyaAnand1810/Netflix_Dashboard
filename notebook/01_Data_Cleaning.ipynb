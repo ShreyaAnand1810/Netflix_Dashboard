{
 "cells": [
  {
   "cell_type": "code",
   "execution_count": 2,
   "id": "32d7215a-6100-439f-bb4a-586f978701e4",
   "metadata": {},
   "outputs": [],
   "source": [
    "# ==============================\n",
    "# 1. Import Libraries\n",
    "# ==============================\n",
    "import os\n",
    "import pandas as pd"
   ]
  },
  {
   "cell_type": "code",
   "execution_count": 5,
   "id": "ed28a7d7-e020-44b1-b45b-c38324a31bef",
   "metadata": {},
   "outputs": [
    {
     "name": "stdout",
     "output_type": "stream",
     "text": [
      "Shape before cleaning: (8807, 12)\n",
      "\n",
      "Missing values before cleaning:\n",
      "show_id            0\n",
      "type               0\n",
      "title              0\n",
      "director        2634\n",
      "cast             825\n",
      "country          831\n",
      "date_added        10\n",
      "release_year       0\n",
      "rating             4\n",
      "duration           3\n",
      "listed_in          0\n",
      "description        0\n",
      "dtype: int64\n"
     ]
    }
   ],
   "source": [
    "# ==============================\n",
    "# 2. Load Dataset\n",
    "# ==============================\n",
    "df_raw = pd.read_csv("../data/netflix_titles.csv")\n",
    "print(\"Shape before cleaning:\", df_raw.shape)\n",
    "\n",
    "# Check missing values\n",
    "print(\"\\nMissing values before cleaning:\")\n",
    "print(df_raw.isnull().sum())"
   ]
  },
  {
   "cell_type": "code",
   "execution_count": 6,
   "id": "5dede745-0c81-411e-8552-b858522365e9",
   "metadata": {},
   "outputs": [],
   "source": [
    "# ==============================\n",
    "# 3. Handle Missing Values\n",
    "# ==============================\n",
    "df = df_raw.copy()\n",
    "\n",
    "df['director'] = df['director'].fillna(\"Unknown\")\n",
    "df['cast'] = df['cast'].fillna(\"Unknown\")\n",
    "df['country'] = df['country'].fillna(\"Unknown\")\n",
    "df['rating'] = df['rating'].fillna(\"Unknown\")\n",
    "df['duration'] = df['duration'].fillna(\"Unknown\")"
   ]
  },
  {
   "cell_type": "code",
   "execution_count": 7,
   "id": "0d59f932-1246-47c2-b074-660842ded8ba",
   "metadata": {},
   "outputs": [],
   "source": [
    "# ==============================\n",
    "# 4. Date Handling\n",
    "# ==============================\n",
    "df['date_added'] = pd.to_datetime(df['date_added'], errors='coerce')\n",
    "df['year_added'] = df['date_added'].dt.year\n",
    "df['month_added'] = df['date_added'].dt.month\n",
    "df['day_of_week'] = df['date_added'].dt.day_name()"
   ]
  },
  {
   "cell_type": "code",
   "execution_count": 8,
   "id": "942376e0-7296-4fca-81a9-0f712c1f47fa",
   "metadata": {},
   "outputs": [],
   "source": [
    "# ==============================\n",
    "# 5. Feature Engineering\n",
    "# ==============================\n",
    "# Binary indicator: is it a movie?\n",
    "df['is_movie'] = df['type'].apply(lambda x: 1 if x == \"Movie\" else 0)\n",
    "\n",
    "# Duration split: handle Movies and TV Shows separately\n",
    "df['duration_mins'] = df.apply(\n",
    "    lambda row: float(row['duration'].split()[0]) \n",
    "                if row['type'] == \"Movie\" and row['duration'] != \"Unknown\" else None,\n",
    "    axis=1\n",
    ")\n",
    "\n",
    "df['num_seasons'] = df.apply(\n",
    "    lambda row: float(row['duration'].split()[0]) \n",
    "                if row['type'] == \"TV Show\" and row['duration'] != \"Unknown\" else None,\n",
    "    axis=1\n",
    ")\n",
    "\n",
    "# Release gap: how many years after release Netflix added the title\n",
    "df['release_gap'] = df['year_added'] - df['release_year']\n",
    "\n",
    "# Encode rating (factorize covers all unique ratings)\n",
    "df['rating_encoded'], _ = pd.factorize(df['rating'])\n",
    "\n",
    "# Extract first listed genre\n",
    "df['main_genre'] = df['listed_in'].str.split(',').str[0]\n"
   ]
  },
  {
   "cell_type": "code",
   "execution_count": 9,
   "id": "4ede2858-2183-47bc-8015-784bde287b3f",
   "metadata": {},
   "outputs": [
    {
     "name": "stdout",
     "output_type": "stream",
     "text": [
      "\n",
      "Shape after cleaning: (8807, 21)\n",
      "\n",
      "Missing values after cleaning:\n",
      "show_id              0\n",
      "type                 0\n",
      "title                0\n",
      "director             0\n",
      "cast                 0\n",
      "country              0\n",
      "date_added          98\n",
      "release_year         0\n",
      "rating               0\n",
      "duration             0\n",
      "listed_in            0\n",
      "description          0\n",
      "year_added          98\n",
      "month_added         98\n",
      "day_of_week         98\n",
      "is_movie             0\n",
      "duration_mins     2679\n",
      "num_seasons       6131\n",
      "release_gap         98\n",
      "rating_encoded       0\n",
      "main_genre           0\n",
      "dtype: int64\n"
     ]
    }
   ],
   "source": [
    "# ==============================\n",
    "# 6. After Cleaning Summary\n",
    "# ==============================\n",
    "print(\"\\nShape after cleaning:\", df.shape)\n",
    "print(\"\\nMissing values after cleaning:\")\n",
    "print(df.isnull().sum())"
   ]
  },
  {
   "cell_type": "code",
   "execution_count": 12,
   "id": "b489c927-ebbf-4bbe-a93b-fa1403589dba",
   "metadata": {},
   "outputs": [
    {
     "name": "stdout",
     "output_type": "stream",
     "text": [
      "\n",
      "Cleaning summary saved to artifacts/cleaning_summary.csv\n"
     ]
    }
   ],
   "source": [
    "# ==============================\n",
    "# 7. Save Cleaned Data & Summary\n",
    "# ==============================\n",
    "# Save cleaned dataset\n",
    "df.to_csv("../data/netflix_titles_cleaned.csv", index=False)\n",
    "\n",
    "# Ensure artifacts folder exists\n",
    "os.makedirs(\"../artifacts\", exist_ok=True)\n",
    "\n",
    "# Cleaning summary\n",
    "summary = {\n",
    "    \"rows_before\": len(df_raw),\n",
    "    \"rows_after\": len(df),\n",
    "    \"duplicates_removed\": len(df_raw) - len(df),\n",
    "    \"missing_values_after\": df.isnull().sum().to_dict()\n",
    "}\n",
    "\n",
    "summary_df = pd.DataFrame([summary])\n",
    "summary_df.to_csv(\"../artifacts/cleaning_summary.csv\", index=False)\n",
    "\n",
    "print(\"\\nCleaning summary saved to artifacts/cleaning_summary.csv\")"
   ]
  },
  {
   "cell_type": "code",
   "execution_count": null,
   "id": "93a1c0a5-89ea-48fd-8ba9-88346b841c1f",
   "metadata": {},
   "outputs": [],
   "source": []
  }
 ],
 "metadata": {
  "kernelspec": {
   "display_name": "Python 3 (ipykernel)",
   "language": "python",
   "name": "python3"
  },
  "language_info": {
   "codemirror_mode": {
    "name": "ipython",
    "version": 3
   },
   "file_extension": ".py",
   "mimetype": "text/x-python",
   "name": "python",
   "nbconvert_exporter": "python",
   "pygments_lexer": "ipython3",
   "version": "3.13.5"
  }
 },
 "nbformat": 4,
 "nbformat_minor": 5
}
